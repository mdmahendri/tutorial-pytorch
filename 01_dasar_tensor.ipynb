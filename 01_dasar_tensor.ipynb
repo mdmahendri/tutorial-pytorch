{
 "cells": [
  {
   "cell_type": "markdown",
   "metadata": {},
   "source": [
    "# Play with Tensor\n",
    "Tensor hampir sama dengan numpy array, tetapi lebih canggih karena dapat dijalankan pada GPU. Cek kodingan di bawah untuk melihat kesamaan. Sumber notebook ini dari [PyTorch tutorial](https://pytorch.org/tutorials/beginner/blitz/tensor_tutorial.html) dengan penambahan perbandingan operasi di numpy"
   ]
  },
  {
   "cell_type": "code",
   "execution_count": 1,
   "metadata": {},
   "outputs": [],
   "source": [
    "import numpy as np\n",
    "import torch"
   ]
  },
  {
   "cell_type": "markdown",
   "metadata": {},
   "source": [
    "fungsi custom print biar ga ngetik print banyak-banyak"
   ]
  },
  {
   "cell_type": "code",
   "execution_count": 2,
   "metadata": {},
   "outputs": [],
   "source": [
    "def print_custom(*args):\n",
    "    for tensor in args:\n",
    "        print(tensor)"
   ]
  },
  {
   "cell_type": "markdown",
   "metadata": {},
   "source": [
    "## Membuat Tensor\n",
    "Membuat matriks 5x3 tanpa inisialisasi"
   ]
  },
  {
   "cell_type": "code",
   "execution_count": 62,
   "metadata": {},
   "outputs": [
    {
     "name": "stdout",
     "output_type": "stream",
     "text": [
      "[[0.90792433 0.91262644 0.52150805]\n",
      " [0.6745688  0.84218955 0.49270619]\n",
      " [0.65176129 0.20155918 0.31414534]\n",
      " [0.45028795 0.03590557 0.72134515]\n",
      " [0.19724808 0.41346794 0.49288688]]\n",
      "tensor([[-0.0000,  0.0000,  0.0000],\n",
      "        [ 0.0000,  0.0000,  0.0000],\n",
      "        [ 0.0000,     nan, -0.0000],\n",
      "        [ 0.0000,  0.0000,  0.0000],\n",
      "        [ 0.0000,  0.0000,  0.0000]])\n",
      "tensor([[-2.7752e-27,  3.0716e-41,  4.0638e-44],\n",
      "        [ 0.0000e+00,         nan,  2.5966e+20],\n",
      "        [ 4.4721e+21,  2.8799e+32,  1.3816e+31],\n",
      "        [ 1.9203e+31,  3.9891e+24,  4.1996e+12],\n",
      "        [ 7.5338e+28,  6.8546e-07,  8.3962e-07]])\n"
     ]
    }
   ],
   "source": [
    "x = np.empty([5, 3]) #bisa juga dengan memakai tuple tidak hanya list\n",
    "y = torch.empty([5, 3])\n",
    "z = torch.empty(5, 3) #alternatif, karena fungsi ini memakai variadic arguments\n",
    "\n",
    "print_custom(x,y,z)"
   ]
  },
  {
   "cell_type": "markdown",
   "metadata": {},
   "source": [
    "Membuat matriks 5x3 dengan inisialisasi acak"
   ]
  },
  {
   "cell_type": "code",
   "execution_count": 4,
   "metadata": {},
   "outputs": [
    {
     "name": "stdout",
     "output_type": "stream",
     "text": [
      "[[0.8718197  0.92944446 0.44666515]\n",
      " [0.6953249  0.64156262 0.32723488]\n",
      " [0.66583169 0.60525445 0.01627472]\n",
      " [0.58011213 0.52057785 0.85723307]\n",
      " [0.93763238 0.43332442 0.53041526]]\n",
      "tensor([[0.7049, 0.3882, 0.3694],\n",
      "        [0.1557, 0.6384, 0.2032],\n",
      "        [0.0861, 0.9520, 0.7507],\n",
      "        [0.4374, 0.3444, 0.9156],\n",
      "        [0.7494, 0.7758, 0.4180]])\n"
     ]
    }
   ],
   "source": [
    "x = np.random.rand(5, 3) #hanya lokasi fungsi dalam package yang berbeda, nama tetap sama\n",
    "y = torch.rand(5, 3) #pakai variadic arguments juga\n",
    "\n",
    "print_custom(x, y)"
   ]
  },
  {
   "cell_type": "markdown",
   "metadata": {},
   "source": [
    "Membuat matriks 5x3 dengan semua elemen bernilai nol dan tipe long"
   ]
  },
  {
   "cell_type": "code",
   "execution_count": 63,
   "metadata": {},
   "outputs": [
    {
     "name": "stdout",
     "output_type": "stream",
     "text": [
      "[[0 0 0]\n",
      " [0 0 0]\n",
      " [0 0 0]\n",
      " [0 0 0]\n",
      " [0 0 0]]\n",
      "tensor([[0, 0, 0],\n",
      "        [0, 0, 0],\n",
      "        [0, 0, 0],\n",
      "        [0, 0, 0],\n",
      "        [0, 0, 0]])\n"
     ]
    }
   ],
   "source": [
    "x = np.zeros([5, 3], dtype=np.long) \n",
    "y = torch.zeros(5, 3, dtype=torch.long)\n",
    "\n",
    "print_custom(x, y)"
   ]
  },
  {
   "cell_type": "markdown",
   "metadata": {},
   "source": [
    "Membuat langsung dari data. `array` untuk numpy, `tensor` untuk pytorch"
   ]
  },
  {
   "cell_type": "code",
   "execution_count": 64,
   "metadata": {},
   "outputs": [
    {
     "name": "stdout",
     "output_type": "stream",
     "text": [
      "[5.5 3. ]\n",
      "tensor([5.5000, 3.0000])\n"
     ]
    }
   ],
   "source": [
    "x = np.array([5.5, 3])\n",
    "y = torch.tensor([5.5, 3])\n",
    "\n",
    "print_custom(x, y)"
   ]
  },
  {
   "cell_type": "markdown",
   "metadata": {},
   "source": [
    "Membuat matriks dari tensor yang sudah ada, secara default menggunakan `dtype` dan `device` bawaan. Kecuali jika kita secara eksplisit mengganti. `device` ini bisa bernilai CPU atau GPU, default sih CPU  \n",
    "Operasi ini saya tidak tahu apakah ada di numpy atau tidak jadi tidak saya tulis"
   ]
  },
  {
   "cell_type": "code",
   "execution_count": 65,
   "metadata": {},
   "outputs": [
    {
     "name": "stdout",
     "output_type": "stream",
     "text": [
      "tensor([[1., 1., 1.],\n",
      "        [1., 1., 1.],\n",
      "        [1., 1., 1.],\n",
      "        [1., 1., 1.],\n",
      "        [1., 1., 1.]], dtype=torch.float64)\n",
      "tensor([[-1.6119,  2.1684, -0.2336],\n",
      "        [ 0.3517,  0.6207,  0.1538],\n",
      "        [ 1.0472,  0.5362, -0.7449],\n",
      "        [-2.1605,  1.0519, -1.2691],\n",
      "        [ 0.3089,  0.2907,  0.3794]])\n"
     ]
    }
   ],
   "source": [
    "y = y.new_ones(5, 3, dtype=torch.double)      # matriks baru dengan nilai elemen satu, size berubah dari yang sebelumnya\n",
    "print(y)\n",
    "\n",
    "y = torch.randn_like(y, dtype=torch.float)    # matriks nilai elemen acak normal, diubah dtype-nya\n",
    "print(y)                                      # memakai size yang sama dari sebelumnya"
   ]
  },
  {
   "cell_type": "markdown",
   "metadata": {},
   "source": [
    "Mendapatkan ukuran matriks, antara numpy dan pytorch berbeda namanya"
   ]
  },
  {
   "cell_type": "code",
   "execution_count": 67,
   "metadata": {},
   "outputs": [
    {
     "name": "stdout",
     "output_type": "stream",
     "text": [
      "(5, 3)\n",
      "torch.Size([5, 3])\n"
     ]
    }
   ],
   "source": [
    "x = np.zeros([5, 3], dtype=np.long)\n",
    "\n",
    "print(x.shape)\n",
    "print(y.size()) #hasilnya berupa tuple, sehingga operasi tuple berlaku"
   ]
  },
  {
   "cell_type": "markdown",
   "metadata": {},
   "source": [
    "## Operasi Tensor\n",
    "Kita mulai dengan penambahan. Terdapat 3 varian untuk operasi ini pada pytorch dan numpy"
   ]
  },
  {
   "cell_type": "code",
   "execution_count": 68,
   "metadata": {},
   "outputs": [
    {
     "name": "stdout",
     "output_type": "stream",
     "text": [
      "Syntax 1\n",
      "[[0.03306735 0.28065724 0.67647219]\n",
      " [0.90009314 0.50009791 0.21659197]\n",
      " [0.81541176 0.15005068 0.0996968 ]\n",
      " [0.94000259 0.89623905 0.89550599]\n",
      " [0.71898202 0.39892885 0.70475471]]\n",
      "tensor([[-1.0838,  2.3064, -0.2076],\n",
      "        [ 1.2139,  1.4440,  1.1493],\n",
      "        [ 1.8450,  1.5261, -0.1707],\n",
      "        [-1.4888,  1.8493, -1.2408],\n",
      "        [ 0.6946,  0.6991,  1.0948]])\n",
      "Syntax 2\n",
      "[[0.03306735 0.28065724 0.67647219]\n",
      " [0.90009314 0.50009791 0.21659197]\n",
      " [0.81541176 0.15005068 0.0996968 ]\n",
      " [0.94000259 0.89623905 0.89550599]\n",
      " [0.71898202 0.39892885 0.70475471]]\n",
      "tensor([[-1.0838,  2.3064, -0.2076],\n",
      "        [ 1.2139,  1.4440,  1.1493],\n",
      "        [ 1.8450,  1.5261, -0.1707],\n",
      "        [-1.4888,  1.8493, -1.2408],\n",
      "        [ 0.6946,  0.6991,  1.0948]])\n",
      "Syntax 3\n",
      "[[0.03306735 0.28065724 0.67647219]\n",
      " [0.90009314 0.50009791 0.21659197]\n",
      " [0.81541176 0.15005068 0.0996968 ]\n",
      " [0.94000259 0.89623905 0.89550599]\n",
      " [0.71898202 0.39892885 0.70475471]]\n",
      "tensor([[-1.0838,  2.3064, -0.2076],\n",
      "        [ 1.2139,  1.4440,  1.1493],\n",
      "        [ 1.8450,  1.5261, -0.1707],\n",
      "        [-1.4888,  1.8493, -1.2408],\n",
      "        [ 0.6946,  0.6991,  1.0948]])\n"
     ]
    }
   ],
   "source": [
    "a = np.random.rand(5, 3)\n",
    "b = torch.rand(5, 3)\n",
    "\n",
    "#Syntax 1\n",
    "print_custom('Syntax 1', a + x, b + y) #ingat bahwa x: array numpy dan y: tensor\n",
    "\n",
    "#Syntax 2\n",
    "print_custom('Syntax 2', np.add(a, x), torch.add(b, y))\n",
    "\n",
    "#Syntax 3\n",
    "res_np = np.empty([5, 3])\n",
    "res_torch = torch.empty([5, 3]) #atau torch.empty(5, 3)\n",
    "print_custom('Syntax 3', np.add(a, x, out=res_np), torch.add(b, y, out=res_torch))"
   ]
  },
  {
   "cell_type": "markdown",
   "metadata": {},
   "source": [
    "Penambahan yang tidak perlu assign variable (inplace), lihat contoh di bawah untuk jelasnya. Tidak tahu apakah ada operasi yang sama pada numpy. Semua operasi yang diakhiri `_` akan berjalan secara inplace pada pytorch, contohnya `x.copy_(y)`, `x.t_()`"
   ]
  },
  {
   "cell_type": "code",
   "execution_count": 69,
   "metadata": {},
   "outputs": [
    {
     "name": "stdout",
     "output_type": "stream",
     "text": [
      "tensor([[-1.0838,  2.3064, -0.2076],\n",
      "        [ 1.2139,  1.4440,  1.1493],\n",
      "        [ 1.8450,  1.5261, -0.1707],\n",
      "        [-1.4888,  1.8493, -1.2408],\n",
      "        [ 0.6946,  0.6991,  1.0948]])\n",
      "tensor([[-0.5556,  2.4444, -0.1816],\n",
      "        [ 2.0762,  2.2674,  2.1448],\n",
      "        [ 2.6429,  2.5160,  0.4034],\n",
      "        [-0.8171,  2.6467, -1.2125],\n",
      "        [ 1.0804,  1.1074,  1.8101]])\n",
      "tensor([[-0.5556,  2.4444, -0.1816],\n",
      "        [ 2.0762,  2.2674,  2.1448],\n",
      "        [ 2.6429,  2.5160,  0.4034],\n",
      "        [-0.8171,  2.6467, -1.2125],\n",
      "        [ 1.0804,  1.1074,  1.8101]])\n"
     ]
    }
   ],
   "source": [
    "print(res_torch)\n",
    "s = res_torch + b\n",
    "res_torch.add_(b)\n",
    "print_custom(s, res_torch) #hasilnya akan identik"
   ]
  },
  {
   "cell_type": "markdown",
   "metadata": {},
   "source": [
    "indexing pada pytorch hampir sama dengan indexing numpy"
   ]
  },
  {
   "cell_type": "code",
   "execution_count": 70,
   "metadata": {},
   "outputs": [
    {
     "name": "stdout",
     "output_type": "stream",
     "text": [
      "0\n",
      "tensor(0.5362)\n",
      "[0 0 0]\n",
      "tensor([0.3517, 0.6207, 0.1538])\n"
     ]
    }
   ],
   "source": [
    "print_custom(x[2,1], y[2,1])\n",
    "print_custom(x[1,:], y[1,:])"
   ]
  },
  {
   "cell_type": "markdown",
   "metadata": {},
   "source": [
    "Fungsi mengganti dimensi pada numpy dan pytorch berbeda. Pada pytorch menggunakan `x.view(dim1, dim2, ...)`"
   ]
  },
  {
   "cell_type": "code",
   "execution_count": 42,
   "metadata": {},
   "outputs": [
    {
     "name": "stdout",
     "output_type": "stream",
     "text": [
      "(2, 3) (6,) (3, 2)\n",
      "torch.Size([2, 3]) torch.Size([6]) torch.Size([3, 2])\n"
     ]
    }
   ],
   "source": [
    "x = np.zeros([3,2])\n",
    "y = torch.zeros([3,2])\n",
    "\n",
    "print(x.reshape(2,3).shape, x.reshape(6).shape, x.reshape(3,-1).shape)\n",
    "print(y.view(2,3).size(), y.view(6).size(), y.view(3,-1).size())"
   ]
  },
  {
   "cell_type": "markdown",
   "metadata": {},
   "source": [
    "## Konversi antara Numpy dan PyTorch"
   ]
  },
  {
   "cell_type": "code",
   "execution_count": 73,
   "metadata": {},
   "outputs": [
    {
     "name": "stdout",
     "output_type": "stream",
     "text": [
      "<class 'torch.Tensor'>\n",
      "<class 'numpy.ndarray'>\n"
     ]
    }
   ],
   "source": [
    "a = torch.ones(5)\n",
    "b = a.numpy()\n",
    "print_custom(type(a), type(b)) #type adalah fungsi untuk mengetahui tipe/kelas variabel"
   ]
  },
  {
   "cell_type": "markdown",
   "metadata": {},
   "source": [
    "Mengganti nilai pada tensor akan diikuti pergantian nilai array numpy secara otomatis"
   ]
  },
  {
   "cell_type": "code",
   "execution_count": 47,
   "metadata": {},
   "outputs": [
    {
     "name": "stdout",
     "output_type": "stream",
     "text": [
      "tensor([2., 2., 2., 2., 2.])\n",
      "[2. 2. 2. 2. 2.]\n"
     ]
    }
   ],
   "source": [
    "a.add_(1)\n",
    "print_custom(a, b)"
   ]
  },
  {
   "cell_type": "markdown",
   "metadata": {},
   "source": [
    "Sebaliknya juga berlaku, konversi array numpy ke tensor pytorch"
   ]
  },
  {
   "cell_type": "code",
   "execution_count": 48,
   "metadata": {},
   "outputs": [
    {
     "name": "stdout",
     "output_type": "stream",
     "text": [
      "[1. 1. 1.]\n",
      "tensor([1., 1., 1.], dtype=torch.float64)\n"
     ]
    }
   ],
   "source": [
    "a = np.zeros(3)\n",
    "b = torch.from_numpy(a)\n",
    "np.add(a, 1, out=a)\n",
    "print_custom(a, b)"
   ]
  },
  {
   "cell_type": "markdown",
   "metadata": {},
   "source": [
    "Seperti yang dibicarakan di atas, operasi tensor dapat dilakukan pada GPU. Berikut contohnya (pastikan sudah punya GPU ya)"
   ]
  },
  {
   "cell_type": "code",
   "execution_count": 61,
   "metadata": {},
   "outputs": [
    {
     "name": "stdout",
     "output_type": "stream",
     "text": [
      "tensor([2., 2., 2.], device='cuda:0', dtype=torch.float64)\n",
      "tensor([2., 2., 2.], dtype=torch.float64)\n"
     ]
    }
   ],
   "source": [
    "assert(torch.cuda.is_available())\n",
    "\n",
    "device = torch.device('cuda')\n",
    "y = torch.ones_like(b, device=device)\n",
    "b = b.to(device) #alternative, b.to('cuda')\n",
    "z = y + b\n",
    "print_custom(z, z.to('cpu', dtype=torch.double))"
   ]
  }
 ],
 "metadata": {
  "kernelspec": {
   "display_name": "Python 3",
   "language": "python",
   "name": "python3"
  },
  "language_info": {
   "codemirror_mode": {
    "name": "ipython",
    "version": 3
   },
   "file_extension": ".py",
   "mimetype": "text/x-python",
   "name": "python",
   "nbconvert_exporter": "python",
   "pygments_lexer": "ipython3",
   "version": "3.6.4"
  }
 },
 "nbformat": 4,
 "nbformat_minor": 2
}
